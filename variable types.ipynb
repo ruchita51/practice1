{
 "cells": [
  {
   "cell_type": "code",
   "execution_count": 3,
   "id": "2e6a84fa",
   "metadata": {},
   "outputs": [
    {
     "name": "stdout",
     "output_type": "stream",
     "text": [
      "20 is a <class 'int'>\n"
     ]
    }
   ],
   "source": [
    "#number\n",
    "a=20\n",
    "print(a, 'is a',type(a))"
   ]
  },
  {
   "cell_type": "code",
   "execution_count": 5,
   "id": "e163cbac",
   "metadata": {},
   "outputs": [
    {
     "name": "stdout",
     "output_type": "stream",
     "text": [
      "20.25 is a <class 'float'>\n"
     ]
    }
   ],
   "source": [
    "b=20.25\n",
    "print(b,'is a',type(b))"
   ]
  },
  {
   "cell_type": "code",
   "execution_count": 6,
   "id": "addd7f61",
   "metadata": {},
   "outputs": [],
   "source": [
    "#string is a text str not convert in number.\n",
    "first_str = 'python'\n",
    "second_str =  ' is a powerful'\n",
    "third_str = ' language'"
   ]
  },
  {
   "cell_type": "code",
   "execution_count": 24,
   "id": "071e4f46",
   "metadata": {},
   "outputs": [
    {
     "name": "stdout",
     "output_type": "stream",
     "text": [
      "pythonis a easylanguage\n"
     ]
    }
   ],
   "source": [
    "print (first_str + second_str + third_str)"
   ]
  },
  {
   "cell_type": "code",
   "execution_count": 26,
   "id": "587bca24",
   "metadata": {},
   "outputs": [
    {
     "name": "stdout",
     "output_type": "stream",
     "text": [
      "python is a powerful language\n"
     ]
    }
   ],
   "source": [
    "f_str='python'\n",
    "s_str = ' is a powerful'\n",
    "t_str = ' language'\n",
    "print (f_str + s_str + t_str)"
   ]
  },
  {
   "cell_type": "code",
   "execution_count": 27,
   "id": "f39ddb59",
   "metadata": {},
   "outputs": [
    {
     "name": "stdout",
     "output_type": "stream",
     "text": [
      "[10, 20.2, 'is a string']\n"
     ]
    }
   ],
   "source": [
    "#list[] it can occupai any type of data like 'str','float','inti'\n",
    "list=[10,20.2,'is a string']\n",
    "print(list)"
   ]
  },
  {
   "cell_type": "code",
   "execution_count": 29,
   "id": "d374773a",
   "metadata": {},
   "outputs": [
    {
     "name": "stdout",
     "output_type": "stream",
     "text": [
      "(10, 20.2, 'is a tuple')\n"
     ]
    }
   ],
   "source": [
    "#tuple is similar to tuple only deff is \"()\"\n",
    "tuple=(10,20.2,'is a tuple')\n",
    "print(tuple)\n",
    "\n"
   ]
  },
  {
   "cell_type": "code",
   "execution_count": 3,
   "id": "9fea8f26",
   "metadata": {},
   "outputs": [
    {
     "name": "stdout",
     "output_type": "stream",
     "text": [
      "{10, 'add', 20, 25.5, 'advik'}\n"
     ]
    }
   ],
   "source": [
    "# set {} it can be string,number,float, set is remove duplicates data in set,it also arrange the data\n",
    "set= {10,25.5,'advik', 10,20,25.5,'add','add'}\n",
    "print(set)"
   ]
  },
  {
   "cell_type": "code",
   "execution_count": 4,
   "id": "6ee7f639",
   "metadata": {},
   "outputs": [
    {
     "name": "stdout",
     "output_type": "stream",
     "text": [
      "{1, 2, 5, 10, 17, 50, 19, 20}\n"
     ]
    }
   ],
   "source": [
    "set1= {20,10,5,2,1,19,50,17}\n",
    "print(set1)"
   ]
  },
  {
   "cell_type": "code",
   "execution_count": 6,
   "id": "1d78db54",
   "metadata": {},
   "outputs": [
    {
     "name": "stdout",
     "output_type": "stream",
     "text": [
      "{'city': 'pune', 'temp': 21}\n"
     ]
    }
   ],
   "source": [
    "#dictionari is also {} but its take two type of data \"key\" and 'value' is can be diffrentiate by \":\"\n",
    "dictionari={'city':'pune','temp':21}\n",
    "print(dictionari)\n"
   ]
  },
  {
   "cell_type": "code",
   "execution_count": null,
   "id": "d7a128df",
   "metadata": {},
   "outputs": [],
   "source": []
  }
 ],
 "metadata": {
  "kernelspec": {
   "display_name": "Python 3",
   "language": "python",
   "name": "python3"
  },
  "language_info": {
   "codemirror_mode": {
    "name": "ipython",
    "version": 3
   },
   "file_extension": ".py",
   "mimetype": "text/x-python",
   "name": "python",
   "nbconvert_exporter": "python",
   "pygments_lexer": "ipython3",
   "version": "3.8.8"
  }
 },
 "nbformat": 4,
 "nbformat_minor": 5
}
